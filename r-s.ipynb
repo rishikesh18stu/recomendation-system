{
  "nbformat": 4,
  "nbformat_minor": 0,
  "metadata": {
    "colab": {
      "provenance": []
    },
    "kernelspec": {
      "name": "python3",
      "display_name": "Python 3"
    },
    "language_info": {
      "name": "python"
    }
  },
  "cells": [
    {
      "cell_type": "code",
      "execution_count": 1,
      "metadata": {
        "colab": {
          "base_uri": "https://localhost:8080/"
        },
        "id": "J_sen9aspDdQ",
        "outputId": "b2fdd0f9-edff-4273-cc59-9d455704197f"
      },
      "outputs": [
        {
          "output_type": "stream",
          "name": "stdout",
          "text": [
            "Collecting scikit-surprise\n",
            "  Downloading scikit_surprise-1.1.4.tar.gz (154 kB)\n",
            "\u001b[?25l     \u001b[90m━━━━━━━━━━━━━━━━━━━━━━━━━━━━━━━━━━━━━━━━\u001b[0m \u001b[32m0.0/154.4 kB\u001b[0m \u001b[31m?\u001b[0m eta \u001b[36m-:--:--\u001b[0m\r\u001b[2K     \u001b[91m━━━━━━━━━━━━━━━━━━━━━━━━━━━━━━━━━━━━━━━\u001b[0m\u001b[91m╸\u001b[0m \u001b[32m153.6/154.4 kB\u001b[0m \u001b[31m5.4 MB/s\u001b[0m eta \u001b[36m0:00:01\u001b[0m\r\u001b[2K     \u001b[90m━━━━━━━━━━━━━━━━━━━━━━━━━━━━━━━━━━━━━━━━\u001b[0m \u001b[32m154.4/154.4 kB\u001b[0m \u001b[31m2.4 MB/s\u001b[0m eta \u001b[36m0:00:00\u001b[0m\n",
            "\u001b[?25h  Installing build dependencies ... \u001b[?25l\u001b[?25hdone\n",
            "  Getting requirements to build wheel ... \u001b[?25l\u001b[?25hdone\n",
            "  Preparing metadata (pyproject.toml) ... \u001b[?25l\u001b[?25hdone\n",
            "Requirement already satisfied: joblib>=1.2.0 in /usr/local/lib/python3.11/dist-packages (from scikit-surprise) (1.4.2)\n",
            "Requirement already satisfied: numpy>=1.19.5 in /usr/local/lib/python3.11/dist-packages (from scikit-surprise) (1.26.4)\n",
            "Requirement already satisfied: scipy>=1.6.0 in /usr/local/lib/python3.11/dist-packages (from scikit-surprise) (1.13.1)\n",
            "Building wheels for collected packages: scikit-surprise\n",
            "  Building wheel for scikit-surprise (pyproject.toml) ... \u001b[?25l\u001b[?25hdone\n",
            "  Created wheel for scikit-surprise: filename=scikit_surprise-1.1.4-cp311-cp311-linux_x86_64.whl size=2505169 sha256=573bb17d3ceb9fe7312006a688d48f66ec118e16db34765e3a25eb0df049deb3\n",
            "  Stored in directory: /root/.cache/pip/wheels/2a/8f/6e/7e2899163e2d85d8266daab4aa1cdabec7a6c56f83c015b5af\n",
            "Successfully built scikit-surprise\n",
            "Installing collected packages: scikit-surprise\n",
            "Successfully installed scikit-surprise-1.1.4\n"
          ]
        }
      ],
      "source": [
        "!pip install scikit-surprise\n"
      ]
    },
    {
      "cell_type": "code",
      "source": [
        "import pandas as pd\n",
        "import numpy as np\n",
        "from sklearn.feature_extraction.text import TfidfVectorizer\n",
        "from sklearn.metrics.pairwise import cosine_similarity\n",
        "from sklearn.model_selection import train_test_split\n",
        "from surprise import SVD\n",
        "from surprise import Dataset\n",
        "from surprise.model_selection import cross_validate\n",
        "from surprise import Reader\n"
      ],
      "metadata": {
        "id": "cH6ttETXpsW2"
      },
      "execution_count": 2,
      "outputs": []
    },
    {
      "cell_type": "code",
      "source": [
        "# Load dataset\n",
        "data = pd.read_csv('ratings_Beauty.csv')\n",
        "\n",
        "# 1. Content-Based Filtering\n",
        "def content_based_filtering(user_recent_product_id):\n",
        "    # Create a product catalog with 'ProductId'\n",
        "    products = data[['ProductId']].drop_duplicates()\n",
        "\n",
        "    # Add a dummy 'combined_features' column (since we lack product names and categories)\n",
        "    products['combined_features'] = products['ProductId']\n",
        "\n",
        "    # Convert text data into TF-IDF features\n",
        "    tfidf = TfidfVectorizer(stop_words='english')\n",
        "    tfidf_matrix = tfidf.fit_transform(products['combined_features'])\n",
        "\n",
        "    # Compute cosine similarity\n",
        "    cosine_sim = cosine_similarity(tfidf_matrix, tfidf_matrix)\n",
        "\n",
        "    # Find the index of the recent product\n",
        "    product_idx = products.index[products['ProductId'] == user_recent_product_id].tolist()[0]\n",
        "\n",
        "    # Get similarity scores for the recent product\n",
        "    sim_scores = list(enumerate(cosine_sim[product_idx]))\n",
        "\n",
        "    # Sort products by similarity score\n",
        "    sim_scores = sorted(sim_scores, key=lambda x: x[1], reverse=True)\n",
        "\n",
        "    # Get top 10 similar products\n",
        "    top_products = [products.iloc[i[0]].ProductId for i in sim_scores[1:11]]\n",
        "\n",
        "    return top_products"
      ],
      "metadata": {
        "id": "V4JDucwAp2Pd"
      },
      "execution_count": 4,
      "outputs": []
    },
    {
      "cell_type": "code",
      "source": [
        "# 2. Collaborative Filtering (Using Surprise Library)\n",
        "def collaborative_filtering(user_id):\n",
        "    # Create a subset of the dataset for collaborative filtering\n",
        "    ratings_data = data[['UserId', 'ProductId', 'Rating']]\n",
        "\n",
        "    # Prepare the data for Surprise\n",
        "    reader = Reader(rating_scale=(1, 5))\n",
        "    surprise_data = Dataset.load_from_df(ratings_data, reader)\n",
        "\n",
        "    # Train-test split\n",
        "    trainset = surprise_data.build_full_trainset()\n",
        "\n",
        "    # Build and train the SVD model\n",
        "    model = SVD()\n",
        "    cross_validate(model, surprise_data, cv=5, verbose=True)\n",
        "    model.fit(trainset)\n",
        "\n",
        "    # Predict top products for the user\n",
        "    all_products = data['ProductId'].unique()\n",
        "    predictions = []\n",
        "    for product_id in all_products:\n",
        "        predictions.append((product_id, model.predict(user_id, product_id).est))\n",
        "\n",
        "    # Sort by predicted rating\n",
        "    predictions = sorted(predictions, key=lambda x: x[1], reverse=True)\n",
        "\n",
        "    # Get top 10 recommendations\n",
        "    top_recommendations = [pred[0] for pred in predictions[:10]]\n",
        "\n",
        "    return top_recommendations\n",
        "\n",
        "# Example Usage\n",
        "user_id = 'A39HTATAQ9V7YF'  # Example user ID\n",
        "user_recent_product_id = '0205616461'  # Example product ID\n",
        "\n",
        "print(\"Content-Based Recommendations:\", content_based_filtering(user_recent_product_id))\n",
        "print(\"Collaborative Filtering Recommendations:\", collaborative_filtering(user_id))\n"
      ],
      "metadata": {
        "colab": {
          "base_uri": "https://localhost:8080/"
        },
        "id": "Tm3RhHI0qPS7",
        "outputId": "8dcdaf49-8cd1-4d03-ba07-dfd4596b7a9d"
      },
      "execution_count": 5,
      "outputs": [
        {
          "output_type": "stream",
          "name": "stdout",
          "text": [
            "Content-Based Recommendations: ['0558925278', '0733001998', '0737104473', '0762451459', '1304139212', '1304139220', '130414089X', '130414643X', '1304146537', '130414674X']\n",
            "Evaluating RMSE, MAE of algorithm SVD on 5 split(s).\n",
            "\n",
            "                  Fold 1  Fold 2  Fold 3  Fold 4  Fold 5  Mean    Std     \n",
            "RMSE (testset)    1.2778  1.2635  1.2576  1.2854  1.2708  1.2710  0.0099  \n",
            "MAE (testset)     1.0039  0.9954  0.9909  1.0079  1.0006  0.9997  0.0060  \n",
            "Fit time          3.35    2.51    2.04    2.03    1.90    2.37    0.53    \n",
            "Test time         0.16    0.12    0.10    0.11    0.28    0.15    0.07    \n",
            "Collaborative Filtering Recommendations: ['B00018TMV4', 'B00021C1LI', 'B00009YJSJ', 'B0000Y3D4G', 'B00029RD72', 'B000052YN6', 'B00025WYK2', 'B000026BTH', 'B0001EKRSU', 'B00008J2XQ']\n"
          ]
        }
      ]
    }
  ]
}